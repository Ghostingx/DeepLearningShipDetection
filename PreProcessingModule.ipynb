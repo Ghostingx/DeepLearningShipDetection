{
 "cells": [
  {
   "cell_type": "markdown",
   "metadata": {},
   "source": [
    "# Define Preprocessing Methods"
   ]
  },
  {
   "cell_type": "code",
   "execution_count": 10,
   "metadata": {},
   "outputs": [],
   "source": [
    "from PIL import Image, ImageEnhance, ImageOps\n",
    "import numpy as np\n",
    "import Constants\n",
    "import os\n",
    "import cv2\n",
    "import pdb\n",
    "\n",
    "##############################################################################\n",
    "#Returns a list of file names for the images\n",
    "##############################################################################\n",
    "def get_unprocessed_image_files():\n",
    "    \n",
    "    #Stores all of the big images in this list\n",
    "    image_file_list = None\n",
    "    \n",
    "    #Retrieve image paths\n",
    "    for root, dirs, files in os.walk(Constants.IMAGE_FILE_LOCATION):\n",
    "        image_file_list = files;\n",
    "        \n",
    "    return image_file_list;\n"
   ]
  },
  {
   "cell_type": "code",
   "execution_count": 11,
   "metadata": {},
   "outputs": [],
   "source": [
    "#Erosion followed by dilation to remove/reduce noise in an image\n",
    "def cv_opening(img, kernel) :\n",
    "    opening = cv2.morphologyEx(img, cv2.MORPH_OPEN, kernel)\n",
    "    return opening\n",
    "\n",
    "#Dilation followed by erosion to plug in holes in the image\n",
    "def cv_closing(img, kernel) :\n",
    "    closing = cv2.morphologyEx(img, cv2.MORPH_CLOSE, kernel)\n",
    "    return closing\n",
    "\n",
    "#Cleans the image by removing noise and plugging in holes\n",
    "def clean_image(img, kernel):\n",
    "    img = cv_opening(img, kernel)\n",
    "    img = cv_closing(img, kernel)\n",
    "    return img\n"
   ]
  },
  {
   "cell_type": "code",
   "execution_count": 12,
   "metadata": {},
   "outputs": [],
   "source": [
    "##############################################################################\n",
    "#Return a list of preprocessed image files where each image is greyscaled\n",
    "#the contrast is increased by a large margin to reduce the number of \n",
    "#color variation\n",
    "#############################################################################\n",
    "def get_pr_images(max_images = 1, greyscale=None, greyscale_threshhold = 80):\n",
    "    #Retrieve image file list\n",
    "    image_file_list = get_unprocessed_image_files()\n",
    "    #Turn each image file item into an Image object\n",
    "    image_list = []\n",
    "    #Create a kernel to move through the image\n",
    "    kernel = np.ones((5,5), np.uint8)\n",
    "    \n",
    "    #Counter to see how many images we are working on and break once we reach image_count\n",
    "    counter = 0\n",
    "    \n",
    "    #Iterate through each file name and turn them into Image objects\n",
    "    #then, preprocess them before appending it to the list\n",
    "    for file_name in image_file_list:\n",
    "        counter += 1\n",
    "        image = None\n",
    "        if greyscale != None: \n",
    "            #The Image object obtained from the file in greyscale mode\n",
    "            image = cv2.imread(Constants.IMAGE_FILE_LOCATION + file_name, cv2.IMREAD_GRAYSCALE)\n",
    "            #Check if the Image should be a binary grey scale with only 0 and 255 values\n",
    "            if greyscale == 'binary':\n",
    "                #Retrieve the shape of the image\n",
    "                image_height = image.shape[0]\n",
    "                image_width = image.shape[1]\n",
    "                #Single for loop to iterate through the matrix\n",
    "                for i in range(image_height):\n",
    "                    for j in range(image_width):\n",
    "                        if image[i][j] < greyscale_threshhold:\n",
    "                            image[i][j] = 0\n",
    "                        else :\n",
    "                            image[i][j] = 255      \n",
    "        else :\n",
    "            #The Image object obtained from the file in normal mode\n",
    "            image = cv2.imread(Constants.IMAGE_FILE_LOCATION + file_name, cv2.IMREAD_UNCHANGED)\n",
    "        #Clean the image\n",
    "        image = clean_image(image, kernel)\n",
    "        #Append the object onto the list\n",
    "        image_list.append(image)\n",
    "        \n",
    "        #Break if we pre-processed enough images\n",
    "        if counter == max_images:\n",
    "            break;\n",
    "        \n",
    "    #Return the list of Image objects\n",
    "    return image_list\n",
    "    "
   ]
  },
  {
   "cell_type": "code",
   "execution_count": 13,
   "metadata": {},
   "outputs": [],
   "source": [
    "##############################################################################\n",
    "#Displays an image until the user presses a key\n",
    "#############################################################################\n",
    "def displayImage(image):\n",
    "    #Create a window object\n",
    "    cv2.namedWindow(\"image_window\", cv2.WINDOW_NORMAL)\n",
    "    #Show the image within that window\n",
    "    cv2.imshow(\"image_window\", image)\n",
    "    #Makes the window show the image until the user presses a value\n",
    "    cv2.waitKey()\n",
    "    #User has pressed a value\n",
    "    cv2.destroyAllWindows()"
   ]
  },
  {
   "cell_type": "code",
   "execution_count": 14,
   "metadata": {},
   "outputs": [],
   "source": [
    "##############################################################################\n",
    "#Saves an image inside of the object detection test folder\n",
    "#############################################################################\n",
    "def saveImage(image, file_name = \"test.png\"):\n",
    "    cv2.imwrite(Constants.PR_SAVE_LOCATION + file_name, image)"
   ]
  },
  {
   "cell_type": "code",
   "execution_count": 15,
   "metadata": {},
   "outputs": [],
   "source": [
    "##############################################################################\n",
    "#Creates a binary matrix of 0 and 1 values\n",
    "#############################################################################\n",
    "def normalize_image(image, reverse = False) :\n",
    "    if reverse == False:\n",
    "        image /= 255\n",
    "    else:\n",
    "        image *= 255\n",
    "\n",
    "    return image"
   ]
  },
  {
   "cell_type": "code",
   "execution_count": 21,
   "metadata": {},
   "outputs": [],
   "source": [
    "def create_bbox(image, bbox_locations, box_thickness = 3):\n",
    "    for x, y, width, height in bbox_locations:\n",
    "        cv2.rectangle(image, (x,y), (x+width, y+height), (255, 0, 0), box_thickness)\n",
    "    return image"
   ]
  },
  {
   "cell_type": "code",
   "execution_count": 22,
   "metadata": {},
   "outputs": [],
   "source": [
    "image_list = get_pr_images(greyscale='binary')\n",
    "image = image_list[0]\n",
    "\n",
    "bbox_locations = [[0,1300, 200, 200]]\n",
    "\n",
    "image = create_bbox(image, bbox_locations)\n",
    "\n",
    "displayImage(image)"
   ]
  },
  {
   "cell_type": "code",
   "execution_count": 19,
   "metadata": {},
   "outputs": [],
   "source": [
    "saveImage(image, \"haha.png\")"
   ]
  },
  {
   "cell_type": "code",
   "execution_count": null,
   "metadata": {},
   "outputs": [],
   "source": []
  }
 ],
 "metadata": {
  "kernelspec": {
   "display_name": "Python 3",
   "language": "python",
   "name": "python3"
  },
  "language_info": {
   "codemirror_mode": {
    "name": "ipython",
    "version": 3
   },
   "file_extension": ".py",
   "mimetype": "text/x-python",
   "name": "python",
   "nbconvert_exporter": "python",
   "pygments_lexer": "ipython3",
   "version": "3.5.2"
  }
 },
 "nbformat": 4,
 "nbformat_minor": 2
}
