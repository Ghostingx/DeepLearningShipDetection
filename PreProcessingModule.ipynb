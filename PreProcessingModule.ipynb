{
 "cells": [
  {
   "cell_type": "markdown",
   "metadata": {},
   "source": [
    "# Retrieve all Images and output their Data in an Array"
   ]
  },
  {
   "cell_type": "code",
   "execution_count": 1,
   "metadata": {},
   "outputs": [],
   "source": [
    "from PIL import Image\n",
    "import Constants\n",
    "import os\n",
    "\n",
    "#Switch to the location where the image files are store\n",
    "os.chdir(Constants.IMAGE_FILE_LOCATION)\n",
    "\n",
    "#Stores a list of all of the image files\n",
    "image_files = None\n",
    "#Iteratively moves through all of the image files in the folder and appends them to the image_files object\n",
    "for root, dirs, files in os.walk('.'):\n",
    "    image_files = files\n"
   ]
  },
  {
   "cell_type": "code",
   "execution_count": 53,
   "metadata": {},
   "outputs": [],
   "source": [
    "#Open the first image for testing\n",
    "image = Image.open(image_files[0])\n",
    "#Load the image\n",
    "image_pix = image_file.load()\n",
    "#The height of the image\n",
    "image_width = image.size[0]\n",
    "#The width of the image\n",
    "image_height = image.size[1]\n",
    "\n",
    "from PIL import ImageEnhance\n",
    "#Create method to grey scale the image and enhance the contrast so the white colors are brighter and blacks are darker\n",
    "def enhance_image(image):\n",
    "    #Grey scale the image\n",
    "    grey_scale_image = image.convert('L')\n",
    "    #Enhance the contrast of the image\n",
    "    contrast_image = ImageEnhance.Contrast(grey_scale_image).enhance(200)\n",
    "    #Return the modified image\n",
    "    return contrast_image"
   ]
  },
  {
   "cell_type": "code",
   "execution_count": 54,
   "metadata": {},
   "outputs": [],
   "source": [
    "contrast_image = enhance_image(image)\n",
    "contrast_image.show()"
   ]
  },
  {
   "cell_type": "code",
   "execution_count": 55,
   "metadata": {},
   "outputs": [
    {
     "name": "stdout",
     "output_type": "stream",
     "text": [
      "[(2687839, 0), (3036, 78), (808874, 255)]\n"
     ]
    }
   ],
   "source": [
    "#Image only has 3 values now, Super easy to do selective search >:3\n",
    "print(contrast_image.getcolors())"
   ]
  },
  {
   "cell_type": "code",
   "execution_count": null,
   "metadata": {},
   "outputs": [],
   "source": [
    "#Create a boolean mask where all the values are set to 0=False first\n",
    "mask = np.zeros((image_width, image_height))\n",
    "#Iterate through every pixel in the image and get the RGB sum of the pixel\n",
    "#If the RGB sum of the pixel is within a certain threshold, then set it to 1, otherwise, leave it\n",
    "#This is to set all of the ocean water images to 1 and everything else to 0\n",
    "for i in range(image_width*image_height):\n",
    "    x_cor = int(i // x.shape[0])\n",
    "    y_cor = int(i % x.shape[0])\n",
    "    "
   ]
  }
 ],
 "metadata": {
  "kernelspec": {
   "display_name": "Python 3",
   "language": "python",
   "name": "python3"
  },
  "language_info": {
   "codemirror_mode": {
    "name": "ipython",
    "version": 3
   },
   "file_extension": ".py",
   "mimetype": "text/x-python",
   "name": "python",
   "nbconvert_exporter": "python",
   "pygments_lexer": "ipython3",
   "version": "3.5.2"
  }
 },
 "nbformat": 4,
 "nbformat_minor": 2
}
