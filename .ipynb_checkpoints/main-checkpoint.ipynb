{
 "cells": [
  {
   "cell_type": "markdown",
   "metadata": {},
   "source": [
    "# Main"
   ]
  },
  {
   "cell_type": "code",
   "execution_count": 1,
   "metadata": {},
   "outputs": [
    {
     "name": "stderr",
     "output_type": "stream",
     "text": [
      "/usr/local/lib/python3.5/dist-packages/h5py/__init__.py:36: FutureWarning: Conversion of the second argument of issubdtype from `float` to `np.floating` is deprecated. In future, it will be treated as `np.float64 == np.dtype(float).type`.\n",
      "  from ._conv import register_converters as _register_converters\n",
      "Using TensorFlow backend.\n"
     ]
    }
   ],
   "source": [
    "#Begin Program\n",
    "import PreProcessingModule as ppm\n",
    "import CNN\n",
    "import ObjectDetection as od\n",
    "import Constants as const\n",
    "import pdb\n",
    "import numpy as np\n",
    "\n",
    "GREYSCALE_THRESHHOLD  = 104\n",
    "IMAGE_COUNT = 2\n",
    "\n",
    "#Get a list of pre-processed images\n",
    "pr_image_list = ppm.get_pr_images(max_images = IMAGE_COUNT, greyscale='binary',\n",
    "    greyscale_threshhold = GREYSCALE_THRESHHOLD)\n",
    "#Get a list of nomral images\n",
    "norm_image_list = ppm.get_upr_images(max_images = IMAGE_COUNT)\n",
    "#Stores the cropped images whose shape is 80x80x3\n",
    "cropped_image_list = []\n",
    "#Stores the boxes for later referall to redraw the bounding boxes on \n",
    "#items that are ships, where each item is x,y,width,height\n",
    "opt_bbox = None\n",
    "\n",
    "#Loads the stored CNN model\n",
    "model = CNN.load_CNN(const.GENERATOR_TRAINED_CNN_MODEL_THREE)\n",
    "bounded_image_list = []\n",
    "\n",
    "#Create probable bounding boxes around items in the image and put them in a list\n",
    "for curr_image_index in range(len(pr_image_list)) :\n",
    "    #Retrieve a processed and an unprocessed image\n",
    "    curr_pr_image = pr_image_list[curr_image_index]\n",
    "    curr_upr_image = norm_image_list[curr_image_index]\n",
    "    #Get the height and width of the whole image\n",
    "    image_height = curr_upr_image.shape[0]\n",
    "    image_width = curr_upr_image.shape[1]\n",
    "    #Retrieve the locations of all of the objects\n",
    "    object_locations = od.detect(curr_pr_image)\n",
    "    #Optimize the bounding boxes\n",
    "    opt_bbox = ppm.scale_bbox(image_width, image_height, object_locations)\n",
    "    #Create the bounding box around the original image\n",
    "    cropped_image_list = ppm.crop(curr_upr_image, opt_bbox)\n",
    "    \n",
    "    #Turn list of images into a usable format for the cnn\n",
    "    array = np.asarray(cropped_image_list)\n",
    "    #Get percentage possibilities whether the object is a ship\n",
    "    predictions = CNN.predict_CNN(model, array)\n",
    "    #Only save objects whose probability to be a ship is over 50%\n",
    "    ships = []\n",
    "    for index in range(len(predictions)):\n",
    "        if predictions[index]  > 0.99:\n",
    "            ships.append(object_locations[index])\n",
    "    \n",
    "    #Create image with bounded boxes around predicted ships\n",
    "    bounded_image = ppm.create_bbox(curr_upr_image, ships, box_thickness=2)\n",
    "    bounded_image_list.append(bounded_image)\n",
    "\n",
    "#Display one of the images\n",
    "ppm.display_image(bounded_image_list[0])\n",
    "ppm.display_image(bounded_image_list[1])"
   ]
  },
  {
   "cell_type": "code",
   "execution_count": null,
   "metadata": {},
   "outputs": [],
   "source": []
  },
  {
   "cell_type": "code",
   "execution_count": null,
   "metadata": {},
   "outputs": [],
   "source": []
  }
 ],
 "metadata": {
  "kernelspec": {
   "display_name": "Python 3",
   "language": "python",
   "name": "python3"
  },
  "language_info": {
   "codemirror_mode": {
    "name": "ipython",
    "version": 3
   },
   "file_extension": ".py",
   "mimetype": "text/x-python",
   "name": "python",
   "nbconvert_exporter": "python",
   "pygments_lexer": "ipython3",
   "version": "3.5.2"
  }
 },
 "nbformat": 4,
 "nbformat_minor": 2
}
