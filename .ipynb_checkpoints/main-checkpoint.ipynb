{
 "cells": [
  {
   "cell_type": "markdown",
   "metadata": {},
   "source": [
    "# Main"
   ]
  },
  {
   "cell_type": "code",
   "execution_count": 3,
   "metadata": {},
   "outputs": [
    {
     "ename": "NameError",
     "evalue": "name 'shipImg' is not defined",
     "output_type": "error",
     "traceback": [
      "\u001b[0;31m---------------------------------------------------------------------------\u001b[0m",
      "\u001b[0;31mNameError\u001b[0m                                 Traceback (most recent call last)",
      "\u001b[0;32m<ipython-input-3-c822b9d0310a>\u001b[0m in \u001b[0;36m<module>\u001b[0;34m()\u001b[0m\n\u001b[1;32m     21\u001b[0m     \u001b[0mobject_locations\u001b[0m \u001b[0;34m=\u001b[0m \u001b[0mod\u001b[0m\u001b[0;34m.\u001b[0m\u001b[0mdetect\u001b[0m\u001b[0;34m(\u001b[0m\u001b[0mcurr_image\u001b[0m\u001b[0;34m)\u001b[0m\u001b[0;34m\u001b[0m\u001b[0m\n\u001b[1;32m     22\u001b[0m     \u001b[0;31m#Create the bounding box around the original image\u001b[0m\u001b[0;34m\u001b[0m\u001b[0;34m\u001b[0m\u001b[0m\n\u001b[0;32m---> 23\u001b[0;31m     \u001b[0mbounded_image\u001b[0m \u001b[0;34m=\u001b[0m \u001b[0mppm\u001b[0m\u001b[0;34m.\u001b[0m\u001b[0mcreate_bbox\u001b[0m\u001b[0;34m(\u001b[0m\u001b[0mshipImg\u001b[0m\u001b[0;34m,\u001b[0m \u001b[0mobject_locations\u001b[0m\u001b[0;34m,\u001b[0m \u001b[0mbox_thickness\u001b[0m \u001b[0;34m=\u001b[0m \u001b[0;36m20\u001b[0m\u001b[0;34m)\u001b[0m\u001b[0;34m\u001b[0m\u001b[0m\n\u001b[0m\u001b[1;32m     24\u001b[0m     \u001b[0mbounded_image_list\u001b[0m\u001b[0;34m.\u001b[0m\u001b[0mappend\u001b[0m\u001b[0;34m(\u001b[0m\u001b[0mbounded_image\u001b[0m\u001b[0;34m)\u001b[0m\u001b[0;34m\u001b[0m\u001b[0m\n\u001b[1;32m     25\u001b[0m \u001b[0;34m\u001b[0m\u001b[0m\n",
      "\u001b[0;31mNameError\u001b[0m: name 'shipImg' is not defined"
     ]
    }
   ],
   "source": [
    "#Begin Program\n",
    "import PreProcessingModule as ppm\n",
    "import CNN\n",
    "import ObjectDetection as od\n",
    "import Constants as const\n",
    "\n",
    "GREYSCALE_THRESHHOLD  = 104\n",
    "IMAGE_COUNT = 1\n",
    "\n",
    "#Get a list of pre-processed images\n",
    "pr_image_list = ppm.get_pr_images(max_images = IMAGE_COUNT, greyscale='binary',\n",
    "    greyscale_threshhold = GREYSCALE_THRESHHOLD);\n",
    "#Get a list of nomral images\n",
    "norm_image_list = ppm.get_upr_images(max_images = IMAGE_COUNT)\n",
    "#Stores the bounded images\n",
    "bounded_image_list = []\n",
    "\n",
    "#Create probable bounding boxes around items in the image and put them in a list\n",
    "for curr_image in pr_image_list :\n",
    "    #Retrieve the locations of all of the objects\n",
    "    object_locations = od.detect(curr_image)\n",
    "    #Create the bounding box around the original image\n",
    "    bounded_image = ppm.create_bbox(shipImg, object_locations, box_thickness = 20)\n",
    "    bounded_image_list.append(bounded_image)\n",
    "\n",
    "#Display the image\n",
    "ppm.display_image(bounded_image_list[0])\n"
   ]
  },
  {
   "cell_type": "code",
   "execution_count": null,
   "metadata": {},
   "outputs": [],
   "source": []
  },
  {
   "cell_type": "code",
   "execution_count": null,
   "metadata": {},
   "outputs": [],
   "source": []
  }
 ],
 "metadata": {
  "kernelspec": {
   "display_name": "Python 3",
   "language": "python",
   "name": "python3"
  },
  "language_info": {
   "codemirror_mode": {
    "name": "ipython",
    "version": 3
   },
   "file_extension": ".py",
   "mimetype": "text/x-python",
   "name": "python",
   "nbconvert_exporter": "python",
   "pygments_lexer": "ipython3",
   "version": "3.5.2"
  }
 },
 "nbformat": 4,
 "nbformat_minor": 2
}
